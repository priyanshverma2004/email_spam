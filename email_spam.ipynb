{
  "nbformat": 4,
  "nbformat_minor": 0,
  "metadata": {
    "colab": {
      "provenance": []
    },
    "kernelspec": {
      "name": "python3",
      "display_name": "Python 3"
    },
    "language_info": {
      "name": "python"
    }
  },
  "cells": [
    {
      "cell_type": "code",
      "execution_count": null,
      "metadata": {
        "colab": {
          "base_uri": "https://localhost:8080/"
        },
        "id": "GTPd2TDItYlV",
        "outputId": "f7949fda-a259-4f19-f393-f25c74d07fb2"
      },
      "outputs": [
        {
          "output_type": "stream",
          "name": "stdout",
          "text": [
            "   Unnamed: 0 label                                               text  \\\n",
            "0         605   ham  Subject: enron methanol ; meter # : 988291\\r\\n...   \n",
            "1        2349   ham  Subject: hpl nom for january 9 , 2001\\r\\n( see...   \n",
            "2        3624   ham  Subject: neon retreat\\r\\nho ho ho , we ' re ar...   \n",
            "3        4685  spam  Subject: photoshop , windows , office . cheap ...   \n",
            "4        2030   ham  Subject: re : indian springs\\r\\nthis deal is t...   \n",
            "\n",
            "   label_num  \n",
            "0          0  \n",
            "1          0  \n",
            "2          0  \n",
            "3          1  \n",
            "4          0  \n",
            "✅ Accuracy: 0.9710144927536232\n",
            "\n",
            "Classification Report:\n",
            "               precision    recall  f1-score   support\n",
            "\n",
            "         Ham       0.98      0.98      0.98       742\n",
            "        Spam       0.95      0.95      0.95       293\n",
            "\n",
            "    accuracy                           0.97      1035\n",
            "   macro avg       0.97      0.96      0.96      1035\n",
            "weighted avg       0.97      0.97      0.97      1035\n",
            "\n"
          ]
        }
      ],
      "source": [
        "import pandas as pd\n",
        "from sklearn.model_selection import train_test_split\n",
        "from sklearn.feature_extraction.text import CountVectorizer\n",
        "from sklearn.naive_bayes import MultinomialNB\n",
        "from sklearn.metrics import accuracy_score, classification_report\n",
        "\n",
        "# 1. Load dataset\n",
        "data = pd.read_csv(\"spam_ham_dataset.csv\")\n",
        "\n",
        "# Inspect dataset\n",
        "print(data.head())\n",
        "\n",
        "# Usually dataset has 'text' column and 'label' (ham/spam)\n",
        "X = data['text']\n",
        "y = data['label_num']\n",
        "\n",
        "# 2. Split data into train and test\n",
        "X_train, X_test, y_train, y_test = train_test_split(X, y, test_size=0.2, random_state=42)\n",
        "\n",
        "# 3. Convert text into numerical vectors\n",
        "vectorizer = CountVectorizer(stop_words=\"english\")\n",
        "X_train_vec = vectorizer.fit_transform(X_train)\n",
        "X_test_vec = vectorizer.transform(X_test)\n",
        "\n",
        "# 4. Train Naive Bayes Model\n",
        "model = MultinomialNB()\n",
        "model.fit(X_train_vec, y_train)\n",
        "\n",
        "# 5. Predictions\n",
        "y_pred = model.predict(X_test_vec)\n",
        "\n",
        "# 6. Performance Evaluation\n",
        "print(\"✅ Accuracy:\", accuracy_score(y_test, y_pred))\n",
        "print(\"\\nClassification Report:\\n\", classification_report(y_test, y_pred, target_names=[\"Ham\", \"Spam\"]))"
      ]
    }
  ]
}